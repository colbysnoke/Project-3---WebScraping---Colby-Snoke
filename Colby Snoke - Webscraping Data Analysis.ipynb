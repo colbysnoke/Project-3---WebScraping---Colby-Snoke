{
 "cells": [
  {
   "cell_type": "markdown",
   "id": "90fcaf08",
   "metadata": {},
   "source": [
    "# Colby Snoke\n",
    "## 11/2/2022"
   ]
  },
  {
   "cell_type": "code",
   "execution_count": null,
   "id": "42f35c50",
   "metadata": {},
   "outputs": [],
   "source": [
    "import requests\n",
    "from bs4 import BeautifulSoup as bs\n",
    "import pandas as pd"
   ]
  },
  {
   "cell_type": "markdown",
   "id": "bdcda24d",
   "metadata": {},
   "source": [
    "# Which movie had the most days as the #1 release in 2021?"
   ]
  },
  {
   "cell_type": "code",
   "execution_count": null,
   "id": "dc17ddd2",
   "metadata": {},
   "outputs": [],
   "source": [
    "url='https://www.boxofficemojo.com/daily/2021/?view=year'\n",
    "response = requests.get(url)\n",
    "status = response.status_code\n",
    "if status == 200:\n",
    "    page = response.text\n",
    "    soup = bs(page)\n",
    "else:\n",
    "    print(f\"Oops! Received status code {status}\")"
   ]
  },
  {
   "cell_type": "code",
   "execution_count": null,
   "id": "6f93a004",
   "metadata": {},
   "outputs": [],
   "source": [
    "movie_list = [ ]\n",
    "stats_table = soup.find(id ='title').tbody\n",
    "for row in stats_table.find_all('tr'):\n",
    "    movie = row.find(attrs={'data-stat': '#1 Release','scope':'row'}).text\n",
    "    movie_list.append({'Movie':movie})\n",
    "movie_list"
   ]
  },
  {
   "cell_type": "code",
   "execution_count": null,
   "id": "bb88ac1f",
   "metadata": {},
   "outputs": [],
   "source": [
    "movie_df = pd.DataFrame(movie_list)\n",
    "movie_df"
   ]
  },
  {
   "cell_type": "code",
   "execution_count": null,
   "id": "8ea59730",
   "metadata": {},
   "outputs": [],
   "source": [
    "movie_total= movie_df['movie'].value_counts()\n",
    "movie_total"
   ]
  },
  {
   "cell_type": "markdown",
   "id": "31eece41",
   "metadata": {},
   "source": [
    "# What Holiday had the highest cumulative gross in 2019?"
   ]
  },
  {
   "cell_type": "code",
   "execution_count": null,
   "id": "fb01a258",
   "metadata": {},
   "outputs": [],
   "source": [
    "url='https://www.boxofficemojo.com/holiday/by-year/2019/?grossesOption=calendarGrosses'\n",
    "response = requests.get(url)\n",
    "status = response.status_code\n",
    "if status == 200:\n",
    "    page = response.text\n",
    "    soup = bs(page)\n",
    "else:\n",
    "    print(f\"Oops! Received status code {status}\")"
   ]
  },
  {
   "cell_type": "code",
   "execution_count": null,
   "id": "aed7de52",
   "metadata": {},
   "outputs": [],
   "source": [
    "movie_list2 = [ ]\n",
    "stats_table = soup.find(id_='table').tbody\n",
    "for row in stats_table.find_all('tr'):\n",
    "    movie = row.find(attrs={'data-stat': 'Holiday','scope':'row'}).text\n",
    "    gross = row.find(attrs={'data-stat':'Cumulative gross'}).text\n",
    "    movie_list2.append({'Movie':movie, 'Gross': Cumulative gross})\n",
    "movie_list2"
   ]
  },
  {
   "cell_type": "code",
   "execution_count": null,
   "id": "a5b6ff45",
   "metadata": {},
   "outputs": [],
   "source": [
    "movie_df2 = pd.DataFrame(movie_list2)\n",
    "movie_df2"
   ]
  },
  {
   "cell_type": "code",
   "execution_count": null,
   "id": "6296c3e4",
   "metadata": {},
   "outputs": [],
   "source": [
    "print(movie_df2.max())"
   ]
  },
  {
   "cell_type": "markdown",
   "id": "5abd1c18",
   "metadata": {},
   "source": [
    "# Which Month had the highest cumulative gross in 2020?"
   ]
  },
  {
   "cell_type": "code",
   "execution_count": null,
   "id": "37cf78f5",
   "metadata": {},
   "outputs": [],
   "source": [
    "url='https://www.boxofficemojo.com/month/by-year/2020/?grossesOption=calendarGrosses'\n",
    "response = requests.get(url)\n",
    "status = response.status_code\n",
    "if status == 200:\n",
    "    page = response.text\n",
    "    soup = bs(page)\n",
    "else:\n",
    "    print(f\"Oops! Received status code {status}\")"
   ]
  },
  {
   "cell_type": "code",
   "execution_count": null,
   "id": "a164286e",
   "metadata": {},
   "outputs": [],
   "source": [
    "movie_list3 = [ ]\n",
    "stats_table = soup.find(id_='table').tbody\n",
    "for row in stats_table.find_all('tr'):\n",
    "    movie = row.find(attrs={'data-stat': 'Month','scope':'row'}).text\n",
    "    gross = row.find(attrs={'data-stat':'Cumulative gross'}).text\n",
    "    movie_list3.append({'Movie':movie, 'Gross': Cumulative gross})\n",
    "movie_list3"
   ]
  },
  {
   "cell_type": "code",
   "execution_count": null,
   "id": "59c69eaa",
   "metadata": {},
   "outputs": [],
   "source": [
    "movie_df3 = pd.DataFrame(movie_list3)\n",
    "movie_df3"
   ]
  },
  {
   "cell_type": "code",
   "execution_count": null,
   "id": "03cf2eb1",
   "metadata": {},
   "outputs": [],
   "source": [
    "print(movie_df3.max())"
   ]
  },
  {
   "cell_type": "markdown",
   "id": "f65e5148",
   "metadata": {},
   "source": [
    "# Throughout all of history which year had the lowest average gross?"
   ]
  },
  {
   "cell_type": "code",
   "execution_count": null,
   "id": "22e50144",
   "metadata": {},
   "outputs": [],
   "source": [
    "url='https://www.boxofficemojo.com/year/?ref_=bo_nb_my_secondarytab'\n",
    "response = requests.get(url)\n",
    "status = response.status_code\n",
    "if status == 200:\n",
    "    page = response.text\n",
    "    soup = bs(page)\n",
    "else:\n",
    "    print(f\"Oops! Received status code {status}\")"
   ]
  },
  {
   "cell_type": "code",
   "execution_count": null,
   "id": "4e55c717",
   "metadata": {},
   "outputs": [],
   "source": [
    "movie_list4 = [ ]\n",
    "stats_table = soup.find(id_='table').tbody\n",
    "for row in stats_table.find_all('tr'):\n",
    "    year = row.find(attrs={'data-stat': 'Year','scope':'row'}).text\n",
    "    Average = row.find(attrs={'data-stat':'Average'}).text\n",
    "    movie_list4.append({'Year': Year, 'Gross': Average})\n",
    "movie_list4"
   ]
  },
  {
   "cell_type": "code",
   "execution_count": null,
   "id": "d8e07324",
   "metadata": {},
   "outputs": [],
   "source": [
    "movie_df4 = pd.DataFrame(movie_list4)\n",
    "movie_df4"
   ]
  },
  {
   "cell_type": "code",
   "execution_count": null,
   "id": "f046ef75",
   "metadata": {},
   "outputs": [],
   "source": [
    "print(movie_df4.min())"
   ]
  },
  {
   "cell_type": "markdown",
   "id": "0c6e5299",
   "metadata": {},
   "source": [
    "# What week during 2001 had the lowest overall gross?"
   ]
  },
  {
   "cell_type": "code",
   "execution_count": null,
   "id": "b3633ec8",
   "metadata": {},
   "outputs": [],
   "source": [
    "url='https://www.boxofficemojo.com/weekly/by-year/2001/'\n",
    "response = requests.get(url)\n",
    "status = response.status_code\n",
    "if status == 200:\n",
    "    page = response.text\n",
    "    soup = bs(page)\n",
    "else:\n",
    "    print(f\"Oops! Received status code {status}\")"
   ]
  },
  {
   "cell_type": "code",
   "execution_count": null,
   "id": "8357d1de",
   "metadata": {},
   "outputs": [],
   "source": [
    "movie_list5 = [ ]\n",
    "stats_table = soup.find(id_='table').tbody\n",
    "for row in stats_table.find_all('tr'):\n",
    "    year = row.find(attrs={'data-stat': 'Dates','scope':'row'}).text\n",
    "    Average = row.find(attrs={'data-stat':'Overall Gross'}).text\n",
    "    movie_list5.append({'Week': Dates, 'Gross': Overall Gross})\n",
    "movie_list5"
   ]
  },
  {
   "cell_type": "code",
   "execution_count": null,
   "id": "b051ce56",
   "metadata": {},
   "outputs": [],
   "source": [
    "movie_df5 = pd.DataFrame(movie_list5)\n",
    "movie_df5"
   ]
  },
  {
   "cell_type": "code",
   "execution_count": null,
   "id": "0dafd664",
   "metadata": {},
   "outputs": [],
   "source": [
    "print(movie_df5.min())"
   ]
  }
 ],
 "metadata": {
  "kernelspec": {
   "display_name": "Python 3 (ipykernel)",
   "language": "python",
   "name": "python3"
  },
  "language_info": {
   "codemirror_mode": {
    "name": "ipython",
    "version": 3
   },
   "file_extension": ".py",
   "mimetype": "text/x-python",
   "name": "python",
   "nbconvert_exporter": "python",
   "pygments_lexer": "ipython3",
   "version": "3.9.12"
  }
 },
 "nbformat": 4,
 "nbformat_minor": 5
}
